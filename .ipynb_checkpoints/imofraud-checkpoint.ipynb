{
 "cells": [
  {
   "cell_type": "code",
   "execution_count": 2,
   "metadata": {},
   "outputs": [],
   "source": [
    "from bs4 import BeautifulSoup as bs\n",
    "import grequests\n",
    "import requests\n",
    "import pandas as pd"
   ]
  },
  {
   "cell_type": "code",
   "execution_count": null,
   "metadata": {},
   "outputs": [],
   "source": [
    "imo = requests.get('https://www.imovirtual.com/arrendar/apartamento/') # request http\n",
    "raw_html = imo.text # convert webpage code into raw text\n",
    "soup = bs(raw_html) # soupify page text\n",
    "\n",
    "# find number of pages\n",
    "for i in soup.find_all('ul', class_='pager'):\n",
    "    pages = int(i.text.split()[-1])\n",
    "    \n",
    "# initialize url list with first page for subsequent appending \n",
    "urls = ['https://www.imovirtual.com/arrendar/apartamento/'] \n",
    "\n",
    "# append further pages links\n",
    "for page in range(2,pages+1):\n",
    "    urls.append('https://www.imovirtual.com/arrendar/apartamento/?page=' + str(page))\n",
    "    \n",
    "# initialize lists for house prices, types, locations and sizes\n",
    "prices = []\n",
    "types = []\n",
    "location = []\n",
    "sizes = [] \n",
    "\n",
    "for u in urls:\n",
    "    imo = requests.get(u) # request http\n",
    "    raw_html = imo.text # convert webpage code into raw text\n",
    "    soup = bs(raw_html) # soupify page text\n",
    "\n",
    "    # Find the desired data: price, location (concelho), typology and size (m2)\n",
    "\n",
    "    # price\n",
    "    for price in soup.find_all('li', class_=\"offer-item-price\"): \n",
    "        prices.append(price.string.split('€')[0].replace(' ','').strip())\n",
    "\n",
    "    #type \n",
    "    for ty in soup.find_all('li', class_=\"offer-item-rooms hidden-xs\"):\n",
    "        types.append(ty.string)\n",
    "\n",
    "    #location\n",
    "    for loc in soup.find_all('p', class_=\"text-nowrap\"):\n",
    "        location.append(loc.text.split('Apartamento para arrendar: ')[1])\n",
    "\n",
    "    #size (m2)\n",
    "    for size in soup.find_all('li', class_=\"hidden-xs offer-item-area\"):\n",
    "        sizes.append(size.next.split(' ')[0])\n",
    "        \n",
    "all_houses = [] # list where all houses will be\n",
    "all_houses.append([prices, types, location, sizes])\n",
    "columns = ['price','type','location','size'] # columns names for the dataframe\n",
    "all_data = pd.DataFrame(all_houses[0]) # create datafame with the list created\n",
    "all_data = all_data.transpose() # transpose dataframe\n",
    "all_data.columns = columns # rename dataframe columns\n",
    "all_data"
   ]
  },
  {
   "cell_type": "code",
   "execution_count": null,
   "metadata": {},
   "outputs": [],
   "source": [
    "all_data.to_csv('house_data.csv')"
   ]
  },
  {
   "cell_type": "code",
   "execution_count": null,
   "metadata": {},
   "outputs": [],
   "source": []
  }
 ],
 "metadata": {
  "kernelspec": {
   "display_name": "Python 3",
   "language": "python",
   "name": "python3"
  },
  "language_info": {
   "codemirror_mode": {
    "name": "ipython",
    "version": 3
   },
   "file_extension": ".py",
   "mimetype": "text/x-python",
   "name": "python",
   "nbconvert_exporter": "python",
   "pygments_lexer": "ipython3",
   "version": "3.8.3"
  }
 },
 "nbformat": 4,
 "nbformat_minor": 4
}
