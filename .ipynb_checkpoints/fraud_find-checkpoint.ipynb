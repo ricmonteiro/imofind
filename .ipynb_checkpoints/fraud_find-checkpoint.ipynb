{
 "cells": [
  {
   "cell_type": "code",
   "execution_count": 1,
   "id": "temporal-flexibility",
   "metadata": {},
   "outputs": [],
   "source": [
    "# It's time to find the possible fraudulent posts\n",
    "# With limited data, we'll take a strategy of signaling the posts\n",
    "# that are too cheap for a given location and a given type\n",
    "import matplotlib.pyplot as plt\n",
    "import pandas as pd\n",
    "import numpy as np\n",
    "import seaborn as sns\n",
    "\n",
    "%matplotlib inline"
   ]
  },
  {
   "cell_type": "code",
   "execution_count": 2,
   "id": "eleven-middle",
   "metadata": {},
   "outputs": [
    {
     "name": "stdout",
     "output_type": "stream",
     "text": [
      "data_fetch.ipynb  fraud_find.ipynb  house_data.csv  page.html\r\n"
     ]
    }
   ],
   "source": [
    "!ls"
   ]
  },
  {
   "cell_type": "code",
   "execution_count": 3,
   "id": "forbidden-hello",
   "metadata": {},
   "outputs": [
    {
     "data": {
      "text/html": [
       "<div>\n",
       "<style scoped>\n",
       "    .dataframe tbody tr th:only-of-type {\n",
       "        vertical-align: middle;\n",
       "    }\n",
       "\n",
       "    .dataframe tbody tr th {\n",
       "        vertical-align: top;\n",
       "    }\n",
       "\n",
       "    .dataframe thead th {\n",
       "        text-align: right;\n",
       "    }\n",
       "</style>\n",
       "<table border=\"1\" class=\"dataframe\">\n",
       "  <thead>\n",
       "    <tr style=\"text-align: right;\">\n",
       "      <th></th>\n",
       "      <th>price</th>\n",
       "      <th>type</th>\n",
       "      <th>size</th>\n",
       "      <th>link</th>\n",
       "      <th>municipality</th>\n",
       "      <th>district</th>\n",
       "    </tr>\n",
       "    <tr>\n",
       "      <th>index</th>\n",
       "      <th></th>\n",
       "      <th></th>\n",
       "      <th></th>\n",
       "      <th></th>\n",
       "      <th></th>\n",
       "      <th></th>\n",
       "    </tr>\n",
       "  </thead>\n",
       "  <tbody>\n",
       "    <tr>\n",
       "      <th>0</th>\n",
       "      <td>950</td>\n",
       "      <td>2</td>\n",
       "      <td>55.00</td>\n",
       "      <td>https://www.imovirtual.com/pt/anuncio/apartame...</td>\n",
       "      <td>Misericórdia</td>\n",
       "      <td>Lisboa</td>\n",
       "    </tr>\n",
       "    <tr>\n",
       "      <th>1</th>\n",
       "      <td>1300</td>\n",
       "      <td>3</td>\n",
       "      <td>105.00</td>\n",
       "      <td>https://www.imovirtual.com/pt/anuncio/apartame...</td>\n",
       "      <td>Olivais</td>\n",
       "      <td>Lisboa</td>\n",
       "    </tr>\n",
       "    <tr>\n",
       "      <th>2</th>\n",
       "      <td>690</td>\n",
       "      <td>1</td>\n",
       "      <td>45.80</td>\n",
       "      <td>https://www.imovirtual.com/pt/anuncio/apartame...</td>\n",
       "      <td>São Nicolau e Vitória</td>\n",
       "      <td>Porto</td>\n",
       "    </tr>\n",
       "    <tr>\n",
       "      <th>3</th>\n",
       "      <td>1900</td>\n",
       "      <td>2</td>\n",
       "      <td>118.79</td>\n",
       "      <td>https://www.imovirtual.com/pt/anuncio/apartame...</td>\n",
       "      <td>Misericórdia</td>\n",
       "      <td>Lisboa</td>\n",
       "    </tr>\n",
       "    <tr>\n",
       "      <th>4</th>\n",
       "      <td>1200</td>\n",
       "      <td>1</td>\n",
       "      <td>58.00</td>\n",
       "      <td>https://www.imovirtual.com/pt/anuncio/apartame...</td>\n",
       "      <td>São Vicente</td>\n",
       "      <td>Lisboa</td>\n",
       "    </tr>\n",
       "    <tr>\n",
       "      <th>...</th>\n",
       "      <td>...</td>\n",
       "      <td>...</td>\n",
       "      <td>...</td>\n",
       "      <td>...</td>\n",
       "      <td>...</td>\n",
       "      <td>...</td>\n",
       "    </tr>\n",
       "    <tr>\n",
       "      <th>11995</th>\n",
       "      <td>950</td>\n",
       "      <td>1</td>\n",
       "      <td>60.00</td>\n",
       "      <td>https://www.imovirtual.com/pt/anuncio/apartame...</td>\n",
       "      <td>Areeiro</td>\n",
       "      <td>Lisboa</td>\n",
       "    </tr>\n",
       "    <tr>\n",
       "      <th>11996</th>\n",
       "      <td>1250</td>\n",
       "      <td>2</td>\n",
       "      <td>90.00</td>\n",
       "      <td>https://www.imovirtual.com/pt/anuncio/arrenda-...</td>\n",
       "      <td>Parque das Nações</td>\n",
       "      <td>Lisboa</td>\n",
       "    </tr>\n",
       "    <tr>\n",
       "      <th>11997</th>\n",
       "      <td>470</td>\n",
       "      <td>1</td>\n",
       "      <td>45.00</td>\n",
       "      <td>https://www.imovirtual.com/pt/anuncio/apartame...</td>\n",
       "      <td>Santo António dos Olivais</td>\n",
       "      <td>Coimbra</td>\n",
       "    </tr>\n",
       "    <tr>\n",
       "      <th>11998</th>\n",
       "      <td>375</td>\n",
       "      <td>2</td>\n",
       "      <td>90.00</td>\n",
       "      <td>https://www.imovirtual.com/pt/anuncio/moradia-...</td>\n",
       "      <td>Vila Nova de Cerveira</td>\n",
       "      <td>Viana do Castelo</td>\n",
       "    </tr>\n",
       "    <tr>\n",
       "      <th>11999</th>\n",
       "      <td>990</td>\n",
       "      <td>4</td>\n",
       "      <td>160.00</td>\n",
       "      <td>https://www.imovirtual.com/pt/anuncio/amplo-t4...</td>\n",
       "      <td>Viana do Castelo (Santa Maria Maior e Monserra...</td>\n",
       "      <td>Viana do Castelo</td>\n",
       "    </tr>\n",
       "  </tbody>\n",
       "</table>\n",
       "<p>11894 rows × 6 columns</p>\n",
       "</div>"
      ],
      "text/plain": [
       "       price  type    size                                               link  \\\n",
       "index                                                                           \n",
       "0        950     2   55.00  https://www.imovirtual.com/pt/anuncio/apartame...   \n",
       "1       1300     3  105.00  https://www.imovirtual.com/pt/anuncio/apartame...   \n",
       "2        690     1   45.80  https://www.imovirtual.com/pt/anuncio/apartame...   \n",
       "3       1900     2  118.79  https://www.imovirtual.com/pt/anuncio/apartame...   \n",
       "4       1200     1   58.00  https://www.imovirtual.com/pt/anuncio/apartame...   \n",
       "...      ...   ...     ...                                                ...   \n",
       "11995    950     1   60.00  https://www.imovirtual.com/pt/anuncio/apartame...   \n",
       "11996   1250     2   90.00  https://www.imovirtual.com/pt/anuncio/arrenda-...   \n",
       "11997    470     1   45.00  https://www.imovirtual.com/pt/anuncio/apartame...   \n",
       "11998    375     2   90.00  https://www.imovirtual.com/pt/anuncio/moradia-...   \n",
       "11999    990     4  160.00  https://www.imovirtual.com/pt/anuncio/amplo-t4...   \n",
       "\n",
       "                                            municipality          district  \n",
       "index                                                                       \n",
       "0                                           Misericórdia            Lisboa  \n",
       "1                                                Olivais            Lisboa  \n",
       "2                                  São Nicolau e Vitória             Porto  \n",
       "3                                           Misericórdia            Lisboa  \n",
       "4                                            São Vicente            Lisboa  \n",
       "...                                                  ...               ...  \n",
       "11995                                            Areeiro            Lisboa  \n",
       "11996                                  Parque das Nações            Lisboa  \n",
       "11997                          Santo António dos Olivais           Coimbra  \n",
       "11998                              Vila Nova de Cerveira  Viana do Castelo  \n",
       "11999  Viana do Castelo (Santa Maria Maior e Monserra...  Viana do Castelo  \n",
       "\n",
       "[11894 rows x 6 columns]"
      ]
     },
     "execution_count": 3,
     "metadata": {},
     "output_type": "execute_result"
    }
   ],
   "source": [
    "data = pd.read_csv('house_data.csv', index_col=0)\n",
    "data"
   ]
  },
  {
   "cell_type": "code",
   "execution_count": 27,
   "id": "breathing-diploma",
   "metadata": {
    "scrolled": true
   },
   "outputs": [],
   "source": [
    "from scipy.stats import stats\n",
    "price_list = []\n",
    "for mun in data.municipality.unique():\n",
    "    for t in data.type.unique():\n",
    "        \n",
    "        zs = stats.zscore(np.array(data.price[(data.municipality == mun) & (data.type == t)].to_list()))\n",
    "        \n",
    "        price_list.append( [data.price[(data.municipality == mun) & (data.type == t)].index.to_list(), zs.tolist(), mun, t] )"
   ]
  },
  {
   "cell_type": "code",
   "execution_count": 28,
   "id": "olive-gamma",
   "metadata": {},
   "outputs": [
    {
     "data": {
      "text/plain": [
       "array([], dtype=float64)"
      ]
     },
     "execution_count": 28,
     "metadata": {},
     "output_type": "execute_result"
    }
   ],
   "source": [
    "price_list"
   ]
  },
  {
   "cell_type": "code",
   "execution_count": 29,
   "id": "dominican-attack",
   "metadata": {},
   "outputs": [],
   "source": [
    "a = data.price[(data.municipality == 'Olivais') & (data.type == 3)]"
   ]
  },
  {
   "cell_type": "code",
   "execution_count": 30,
   "id": "committed-modeling",
   "metadata": {},
   "outputs": [],
   "source": [
    "b = np.array(a)"
   ]
  },
  {
   "cell_type": "code",
   "execution_count": 31,
   "id": "smaller-fireplace",
   "metadata": {},
   "outputs": [
    {
     "data": {
      "text/plain": [
       "array([1300, 1300, 1980, 1200, 1200, 1500,  950, 1900,  770, 1600,  975,\n",
       "        850, 1100, 1500, 1000, 1200, 1200,  780, 1500,  800])"
      ]
     },
     "execution_count": 31,
     "metadata": {},
     "output_type": "execute_result"
    }
   ],
   "source": [
    "b"
   ]
  },
  {
   "cell_type": "code",
   "execution_count": 42,
   "id": "combined-opera",
   "metadata": {},
   "outputs": [
    {
     "data": {
      "text/plain": [
       "array([ 0.20404579,  0.20404579,  2.19330945, -0.08849298, -0.08849298,\n",
       "        0.78912334, -0.81983991,  1.95927843, -1.3464097 ,  1.08166211,\n",
       "       -0.74670522, -1.11237868, -0.38103175,  0.78912334, -0.67357052,\n",
       "       -0.08849298, -0.08849298, -1.31715582,  0.78912334, -1.25864807])"
      ]
     },
     "execution_count": 42,
     "metadata": {},
     "output_type": "execute_result"
    }
   ],
   "source": [
    "c = stats.zscore(b)\n",
    "c"
   ]
  },
  {
   "cell_type": "code",
   "execution_count": null,
   "id": "disciplinary-cathedral",
   "metadata": {},
   "outputs": [],
   "source": []
  }
 ],
 "metadata": {
  "kernelspec": {
   "display_name": "Python 3",
   "language": "python",
   "name": "python3"
  },
  "language_info": {
   "codemirror_mode": {
    "name": "ipython",
    "version": 3
   },
   "file_extension": ".py",
   "mimetype": "text/x-python",
   "name": "python",
   "nbconvert_exporter": "python",
   "pygments_lexer": "ipython3",
   "version": "3.8.3"
  }
 },
 "nbformat": 4,
 "nbformat_minor": 5
}
