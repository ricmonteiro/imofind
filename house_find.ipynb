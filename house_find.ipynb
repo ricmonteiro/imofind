{
 "cells": [
  {
   "cell_type": "code",
   "execution_count": 1,
   "metadata": {},
   "outputs": [],
   "source": [
    "# It's time to find the possible fraudulent posts\n",
    "# With limited data, we'll take a strategy of signaling the posts\n",
    "# that are too cheap for a given location and a given type\n",
    "\n",
    "import matplotlib.pyplot as plt\n",
    "import pandas as pd\n",
    "import numpy as np\n",
    "import seaborn as sns\n",
    "from scipy.stats import stats\n",
    "from iteration_utilities import deepflatten\n",
    "\n",
    "%matplotlib inline"
   ]
  },
  {
   "cell_type": "code",
   "execution_count": 2,
   "metadata": {},
   "outputs": [],
   "source": [
    "house_data = pd.read_csv('house_data.csv', index_col=0)\n",
    "\n",
    "\n",
    "# FUNCTION THAT WILL EXTRACT OUTLIERS FROM PRICE LIST\n",
    "def detect_outliers(data):\n",
    "    \n",
    "    # find q1 and q3 values\n",
    "    q1, q3 = np.percentile(sorted(data), [25, 75])\n",
    "    # compute IRQ\n",
    "    iqr = q3 - q1\n",
    "    # find lower and upper bounds\n",
    "    lower_bound = q1 - (2 * iqr)\n",
    "\n",
    "    outliers = [x for x in data if x <= lower_bound]       \n",
    "\n",
    "    return outliers\n",
    "\n",
    "\n",
    "# cycle through each municipality and each house type and extract outlier indexes\n",
    "outlier_indexes = [] #\n",
    "for mun in house_data.municipality.unique():\n",
    "    for t in house_data.type.unique():\n",
    "        \n",
    "        prices = house_data.price[(house_data.municipality == mun) & (house_data.type == t)].to_list()\n",
    "        \n",
    "        # pass if there are no house for rent in a municipality and type\n",
    "        if prices != []:                \n",
    "            data_outliers = detect_outliers(prices)\n",
    "        else:\n",
    "            pass\n",
    "        \n",
    "        # pass if there are no outliers in the price\n",
    "        if data_outliers == []:\n",
    "            pass\n",
    "        \n",
    "        else:\n",
    "            for o in data_outliers:\n",
    "                indexes = house_data.index[(house_data.municipality == mun) \n",
    "                                           & (house_data.type == t) \n",
    "                                           & (house_data.price == o)].to_list()          \n",
    "        \n",
    "                outlier_indexes.append(indexes)\n",
    "        \n",
    "outlier_indexes = list(deepflatten(outlier_indexes, depth=1))\n",
    "outlier_links = pd.DataFrame(house_data.link[outlier_indexes])\n",
    "outlier_links = outlier_links.reset_index(drop=True)\n",
    "outlier_links.to_csv('outlier_links')"
   ]
  },
  {
   "cell_type": "code",
   "execution_count": 3,
   "metadata": {},
   "outputs": [
    {
     "data": {
      "text/plain": [
       "0      https://www.imovirtual.com/pt/anuncio/apartame...\n",
       "1      https://www.imovirtual.com/pt/anuncio/apartame...\n",
       "2      https://www.imovirtual.com/pt/anuncio/apartame...\n",
       "3      https://www.imovirtual.com/pt/anuncio/apartame...\n",
       "4      https://www.imovirtual.com/pt/anuncio/alugo-st...\n",
       "                             ...                        \n",
       "784    https://www.imovirtual.com/pt/anuncio/t1-furna...\n",
       "785    https://www.imovirtual.com/pt/anuncio/moradia-...\n",
       "786    https://www.imovirtual.com/pt/anuncio/t1-zona-...\n",
       "787    https://www.imovirtual.com/pt/anuncio/apartame...\n",
       "788    https://www.imovirtual.com/pt/anuncio/arrendo-...\n",
       "Name: link, Length: 789, dtype: object"
      ]
     },
     "execution_count": 3,
     "metadata": {},
     "output_type": "execute_result"
    }
   ],
   "source": [
    "outlier_links.link"
   ]
  },
  {
   "cell_type": "code",
   "execution_count": null,
   "metadata": {},
   "outputs": [],
   "source": []
  }
 ],
 "metadata": {
  "kernelspec": {
   "display_name": "Python 3",
   "language": "python",
   "name": "python3"
  },
  "language_info": {
   "codemirror_mode": {
    "name": "ipython",
    "version": 3
   },
   "file_extension": ".py",
   "mimetype": "text/x-python",
   "name": "python",
   "nbconvert_exporter": "python",
   "pygments_lexer": "ipython3",
   "version": "3.8.5"
  }
 },
 "nbformat": 4,
 "nbformat_minor": 5
}
