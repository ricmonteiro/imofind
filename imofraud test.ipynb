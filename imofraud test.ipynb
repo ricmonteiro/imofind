{
 "cells": [
  {
   "cell_type": "code",
   "execution_count": 7,
   "metadata": {},
   "outputs": [],
   "source": [
    "import requests\n",
    "\n",
    "url = 'https://www.idealista.pt/imovel/30904974/'\n",
    "\n",
    "path = \"./page.html\"\n",
    "\n",
    "response = requests.get(url, headers={'User-Agent': 'Mozilla/5.0'})\n",
    "\n",
    "file = open(path, \"wb\")\n",
    "\n",
    "file.write(response.content)\n",
    "\n",
    "file.close()"
   ]
  },
  {
   "cell_type": "code",
   "execution_count": null,
   "metadata": {},
   "outputs": [],
   "source": []
  }
 ],
 "metadata": {
  "kernelspec": {
   "display_name": "imofraudenv",
   "language": "python",
   "name": "ifenv"
  },
  "language_info": {
   "codemirror_mode": {
    "name": "ipython",
    "version": 3
   },
   "file_extension": ".py",
   "mimetype": "text/x-python",
   "name": "python",
   "nbconvert_exporter": "python",
   "pygments_lexer": "ipython3",
   "version": "3.8.6"
  }
 },
 "nbformat": 4,
 "nbformat_minor": 4
}
