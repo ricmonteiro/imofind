{
 "cells": [
  {
   "cell_type": "code",
   "execution_count": 1,
   "id": "least-display",
   "metadata": {},
   "outputs": [],
   "source": [
    "# It's time to find the possible fraudulent posts\n",
    "# With limited data, we'll take a strategy of signaling the posts\n",
    "# that are too cheap for a given location and a given type\n",
    "import matplotlib.pyplot as plt\n",
    "import pandas as pd\n",
    "import numpy as np\n",
    "import seaborn as sns\n",
    "\n",
    "%matplotlib inline"
   ]
  },
  {
   "cell_type": "code",
   "execution_count": 2,
   "id": "popular-prospect",
   "metadata": {},
   "outputs": [
    {
     "name": "stdout",
     "output_type": "stream",
     "text": [
      "data_fetch.ipynb  fraud_find.ipynb  house_data.csv  page.html\r\n"
     ]
    }
   ],
   "source": [
    "!ls"
   ]
  },
  {
   "cell_type": "code",
   "execution_count": 3,
   "id": "flying-waterproof",
   "metadata": {},
   "outputs": [
    {
     "data": {
      "text/html": [
       "<div>\n",
       "<style scoped>\n",
       "    .dataframe tbody tr th:only-of-type {\n",
       "        vertical-align: middle;\n",
       "    }\n",
       "\n",
       "    .dataframe tbody tr th {\n",
       "        vertical-align: top;\n",
       "    }\n",
       "\n",
       "    .dataframe thead th {\n",
       "        text-align: right;\n",
       "    }\n",
       "</style>\n",
       "<table border=\"1\" class=\"dataframe\">\n",
       "  <thead>\n",
       "    <tr style=\"text-align: right;\">\n",
       "      <th></th>\n",
       "      <th>price</th>\n",
       "      <th>type</th>\n",
       "      <th>size</th>\n",
       "      <th>municipality</th>\n",
       "      <th>district</th>\n",
       "    </tr>\n",
       "    <tr>\n",
       "      <th>index</th>\n",
       "      <th></th>\n",
       "      <th></th>\n",
       "      <th></th>\n",
       "      <th></th>\n",
       "      <th></th>\n",
       "    </tr>\n",
       "  </thead>\n",
       "  <tbody>\n",
       "    <tr>\n",
       "      <th>0</th>\n",
       "      <td>400</td>\n",
       "      <td>2</td>\n",
       "      <td>78.0</td>\n",
       "      <td>Figueira da Foz</td>\n",
       "      <td>Coimbra</td>\n",
       "    </tr>\n",
       "    <tr>\n",
       "      <th>1</th>\n",
       "      <td>1300</td>\n",
       "      <td>3</td>\n",
       "      <td>140.0</td>\n",
       "      <td>Lordelo do Ouro e Massarelos</td>\n",
       "      <td>Porto</td>\n",
       "    </tr>\n",
       "    <tr>\n",
       "      <th>2</th>\n",
       "      <td>650</td>\n",
       "      <td>1</td>\n",
       "      <td>57.0</td>\n",
       "      <td>Glória e Vera Cruz</td>\n",
       "      <td>Aveiro</td>\n",
       "    </tr>\n",
       "    <tr>\n",
       "      <th>3</th>\n",
       "      <td>1200</td>\n",
       "      <td>1</td>\n",
       "      <td>58.0</td>\n",
       "      <td>São Vicente</td>\n",
       "      <td>Lisboa</td>\n",
       "    </tr>\n",
       "    <tr>\n",
       "      <th>4</th>\n",
       "      <td>285</td>\n",
       "      <td>1</td>\n",
       "      <td>55.0</td>\n",
       "      <td>Mealhada</td>\n",
       "      <td>Aveiro</td>\n",
       "    </tr>\n",
       "    <tr>\n",
       "      <th>...</th>\n",
       "      <td>...</td>\n",
       "      <td>...</td>\n",
       "      <td>...</td>\n",
       "      <td>...</td>\n",
       "      <td>...</td>\n",
       "    </tr>\n",
       "    <tr>\n",
       "      <th>11994</th>\n",
       "      <td>600</td>\n",
       "      <td>2</td>\n",
       "      <td>66.5</td>\n",
       "      <td>Vila Nova de Gaia</td>\n",
       "      <td>Porto</td>\n",
       "    </tr>\n",
       "    <tr>\n",
       "      <th>11995</th>\n",
       "      <td>480</td>\n",
       "      <td>1</td>\n",
       "      <td>60.0</td>\n",
       "      <td>Santa Clara e Castelo Viegas</td>\n",
       "      <td>Coimbra</td>\n",
       "    </tr>\n",
       "    <tr>\n",
       "      <th>11996</th>\n",
       "      <td>750</td>\n",
       "      <td>2</td>\n",
       "      <td>80.0</td>\n",
       "      <td>Sintra</td>\n",
       "      <td>Lisboa</td>\n",
       "    </tr>\n",
       "    <tr>\n",
       "      <th>11997</th>\n",
       "      <td>500</td>\n",
       "      <td>2</td>\n",
       "      <td>100.0</td>\n",
       "      <td>Esposende</td>\n",
       "      <td>Braga</td>\n",
       "    </tr>\n",
       "    <tr>\n",
       "      <th>11998</th>\n",
       "      <td>750</td>\n",
       "      <td>2</td>\n",
       "      <td>100.0</td>\n",
       "      <td>São Victor</td>\n",
       "      <td>Braga</td>\n",
       "    </tr>\n",
       "  </tbody>\n",
       "</table>\n",
       "<p>10309 rows × 5 columns</p>\n",
       "</div>"
      ],
      "text/plain": [
       "       price  type   size                  municipality district\n",
       "index                                                           \n",
       "0        400     2   78.0               Figueira da Foz  Coimbra\n",
       "1       1300     3  140.0  Lordelo do Ouro e Massarelos    Porto\n",
       "2        650     1   57.0            Glória e Vera Cruz   Aveiro\n",
       "3       1200     1   58.0                   São Vicente   Lisboa\n",
       "4        285     1   55.0                      Mealhada   Aveiro\n",
       "...      ...   ...    ...                           ...      ...\n",
       "11994    600     2   66.5             Vila Nova de Gaia    Porto\n",
       "11995    480     1   60.0  Santa Clara e Castelo Viegas  Coimbra\n",
       "11996    750     2   80.0                        Sintra   Lisboa\n",
       "11997    500     2  100.0                     Esposende    Braga\n",
       "11998    750     2  100.0                    São Victor    Braga\n",
       "\n",
       "[10309 rows x 5 columns]"
      ]
     },
     "execution_count": 3,
     "metadata": {},
     "output_type": "execute_result"
    }
   ],
   "source": [
    "data = pd.read_csv('house_data.csv', index_col=0)\n",
    "data"
   ]
  },
  {
   "cell_type": "code",
   "execution_count": 5,
   "id": "polish-indie",
   "metadata": {},
   "outputs": [
    {
     "data": {
      "image/png": "[encoded data removed]",
      "text/plain": [
       "<Figure size 432x288 with 1 Axes>"
      ]
     },
     "metadata": {
      "needs_background": "light"
     },
     "output_type": "display_data"
    }
   ],
   "source": [
    "data[data.municipality == 'Benfica'].plot(kind='scatter', x='size', y='price')\n",
    "plt.show()"
   ]
  },
  {
   "cell_type": "code",
   "execution_count": null,
   "id": "colored-insider",
   "metadata": {},
   "outputs": [],
   "source": []
  }
 ],
 "metadata": {
  "kernelspec": {
   "display_name": "Python 3",
   "language": "python",
   "name": "python3"
  },
  "language_info": {
   "codemirror_mode": {
    "name": "ipython",
    "version": 3
   },
   "file_extension": ".py",
   "mimetype": "text/x-python",
   "name": "python",
   "nbconvert_exporter": "python",
   "pygments_lexer": "ipython3",
   "version": "3.8.3"
  }
 },
 "nbformat": 4,
 "nbformat_minor": 5
}
